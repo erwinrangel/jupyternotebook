{
 "cells": [
  {
   "cell_type": "markdown",
   "id": "e8f3ee9c-21c2-4b34-a382-83910c0bc00f",
   "metadata": {},
   "source": [
    "# Data Science Tools and Ecosystem"
   ]
  },
  {
   "cell_type": "markdown",
   "id": "5149bdb0-3d25-4c34-970c-2372c3207fa8",
   "metadata": {},
   "source": [
    "In this notebook, Data Science Tools and Ecosystem are summarized."
   ]
  },
  {
   "cell_type": "markdown",
   "id": "27b79ac8-b07e-47a1-9fe0-dac3b7d41dcc",
   "metadata": {},
   "source": [
    "***Objectives:***\n",
    "- List of popular languages that Data Scientists use\n",
    "- List of commonly used libraries used by Data Scientists\n",
    "- Table of Data Science tools\n",
    "- Examples of arithmetic expressions"
   ]
  },
  {
   "cell_type": "markdown",
   "id": "aa85385c-8ddf-4c49-9c6f-791ec51e6526",
   "metadata": {},
   "source": [
    "Some of the popular languages that Data Scientists use are:\n",
    "1. Python\n",
    "2. R\n",
    "3. Julia"
   ]
  },
  {
   "cell_type": "markdown",
   "id": "848ba368-9399-446e-91f6-7da86202ebca",
   "metadata": {},
   "source": [
    "Some of the commonly used libraries used by Data Scientists include:\n",
    "1. NumPy\n",
    "2. Pandas\n",
    "3. Matplotlib"
   ]
  },
  {
   "cell_type": "markdown",
   "id": "dc768b07-6381-4d03-9c00-8f7a5f88e6d5",
   "metadata": {},
   "source": [
    "|Data Science Tools|\n",
    "-------------------\n",
    "|Jupyter|\n",
    "|Spyder|\n",
    "|RStudio|"
   ]
  },
  {
   "cell_type": "markdown",
   "id": "6dee1e78-dee1-49d5-acb7-0f91eddd7707",
   "metadata": {
    "tags": []
   },
   "source": [
    "### Below are a few examples of evaluating arithmetic expressions in Python"
   ]
  },
  {
   "cell_type": "code",
   "execution_count": 5,
   "id": "9a0a68a2-e093-45de-bd68-51a4f6046411",
   "metadata": {
    "tags": []
   },
   "outputs": [
    {
     "data": {
      "text/plain": [
       "17"
      ]
     },
     "execution_count": 5,
     "metadata": {},
     "output_type": "execute_result"
    }
   ],
   "source": [
    "#This a simple arithmetic expression to multiply and add integers\n",
    "(3*4)+5"
   ]
  },
  {
   "cell_type": "code",
   "execution_count": 6,
   "id": "c532f488-01bc-4697-a9a1-0047692dd252",
   "metadata": {
    "tags": []
   },
   "outputs": [
    {
     "data": {
      "text/plain": [
       "3.3333333333333335"
      ]
     },
     "execution_count": 6,
     "metadata": {},
     "output_type": "execute_result"
    }
   ],
   "source": [
    "#This will convert 200 minutes to hours by diving by 60\n",
    "200/60"
   ]
  },
  {
   "cell_type": "markdown",
   "id": "fe98659e-7838-44eb-bd96-aae1a9722daa",
   "metadata": {},
   "source": [
    "## Author\n",
    "Erwin Arturo Rangel Suárez"
   ]
  }
 ],
 "metadata": {
  "kernelspec": {
   "display_name": "Python",
   "language": "python",
   "name": "conda-env-python-py"
  },
  "language_info": {
   "codemirror_mode": {
    "name": "ipython",
    "version": 3
   },
   "file_extension": ".py",
   "mimetype": "text/x-python",
   "name": "python",
   "nbconvert_exporter": "python",
   "pygments_lexer": "ipython3",
   "version": "3.7.12"
  }
 },
 "nbformat": 4,
 "nbformat_minor": 5
}
